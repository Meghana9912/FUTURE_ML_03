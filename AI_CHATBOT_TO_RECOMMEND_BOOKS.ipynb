{
  "nbformat": 4,
  "nbformat_minor": 0,
  "metadata": {
    "colab": {
      "provenance": []
    },
    "kernelspec": {
      "name": "python3",
      "display_name": "Python 3"
    },
    "language_info": {
      "name": "python"
    }
  },
  "cells": [
    {
      "cell_type": "code",
      "execution_count": 68,
      "metadata": {
        "colab": {
          "base_uri": "https://localhost:8080/"
        },
        "id": "NbVNuew7KSuJ",
        "outputId": "84e3f341-b523-4406-8da7-281d4ea08fc5"
      },
      "outputs": [
        {
          "output_type": "stream",
          "name": "stdout",
          "text": [
            "Archive:  /content/drive/MyDrive/future_intern/task-3/archive (2).zip\n",
            "replace /content/books_data/books.csv? [y]es, [n]o, [A]ll, [N]one, [r]ename: no\n",
            "replace /content/books_data/ratings.csv? [y]es, [n]o, [A]ll, [N]one, [r]ename: no\n",
            "replace /content/books_data/users.csv? [y]es, [n]o, [A]ll, [N]one, [r]ename: no\n"
          ]
        }
      ],
      "source": [
        "\n",
        "!unzip \"/content/drive/MyDrive/future_intern/task-3/archive (2).zip\" -d \"/content/\"\n"
      ]
    },
    {
      "cell_type": "code",
      "source": [
        "!pip install chardet"
      ],
      "metadata": {
        "colab": {
          "base_uri": "https://localhost:8080/"
        },
        "id": "qiG4BQWoO3Rz",
        "outputId": "77811728-1e3f-4640-d00f-04f70f6f2865"
      },
      "execution_count": null,
      "outputs": [
        {
          "output_type": "stream",
          "name": "stdout",
          "text": [
            "Requirement already satisfied: chardet in /usr/local/lib/python3.11/dist-packages (5.2.0)\n"
          ]
        }
      ]
    },
    {
      "cell_type": "code",
      "source": [
        "import pandas as pd\n",
        "import chardet\n",
        "\n",
        "def detect_encoding(file_path):\n",
        "    with open(file_path, 'rb') as f:\n",
        "        result = chardet.detect(f.read(100000))  # Read first 100,000 bytes\n",
        "        return result['encoding']\n",
        "\n",
        "# Define file paths\n",
        "books_path = '/content/books_data/books.csv'\n",
        "ratings_path = '/content/books_data/ratings.csv'\n",
        "users_path = '/content/books_data/users.csv'\n",
        "\n",
        "# Detect encoding for each file\n",
        "books_encoding = detect_encoding(books_path) # Call the function to get the encoding\n",
        "ratings_encoding = detect_encoding(ratings_path) # Call the function to get the encoding\n",
        "users_encoding = detect_encoding(users_path) # Call the function to get the encoding\n",
        "\n",
        "\n",
        "# Read files safely\n",
        "# Replace 'error_bad_lines' and 'warn_bad_lines' with 'on_bad_lines'\n",
        "books = pd.read_csv('/content/books_data/books.csv', sep=';', encoding='ISO-8859-1', on_bad_lines='skip') # 'warn' is equivalent to error_bad_lines=False, warn_bad_lines=True\n",
        "# Force 'latin1' encoding for ratings.csv\n",
        "ratings = pd.read_csv('/content/books_data/ratings.csv', sep=';', encoding='ISO-8859-1') # 'latin1' or 'ISO-8859-1' handles a broader range of characters.\n",
        "users = pd.read_csv(users_path, encoding=users_encoding, on_bad_lines='skip',sep=';') # 'warn' is equivalent to error_bad_lines=False, warn_bad_lines=True\n",
        "\n",
        "\n"
      ],
      "metadata": {
        "id": "s2EaeOPBL3Us",
        "colab": {
          "base_uri": "https://localhost:8080/"
        },
        "outputId": "3844ed3d-f334-40ee-f8de-b39badafa0f7"
      },
      "execution_count": 84,
      "outputs": [
        {
          "output_type": "stream",
          "name": "stderr",
          "text": [
            "<ipython-input-84-73651552175d>:22: DtypeWarning: Columns (3) have mixed types. Specify dtype option on import or set low_memory=False.\n",
            "  books = pd.read_csv('/content/books_data/books.csv', sep=';', encoding='ISO-8859-1', on_bad_lines='skip') # 'warn' is equivalent to error_bad_lines=False, warn_bad_lines=True\n"
          ]
        }
      ]
    },
    {
      "cell_type": "code",
      "source": [
        "\n",
        "# Show first few rows\n",
        "print(\"Books Data:\")\n",
        "print(books.head())\n",
        "\n",
        "print(\"\\nRatings Data:\")\n",
        "print(ratings.head())\n",
        "\n",
        "print(\"\\nUsers Data:\")\n",
        "print(users.head())"
      ],
      "metadata": {
        "colab": {
          "base_uri": "https://localhost:8080/"
        },
        "id": "hLsMnr9BQZ8L",
        "outputId": "e24e9b95-9ee4-4049-d362-a53e3f0ccd9b"
      },
      "execution_count": 76,
      "outputs": [
        {
          "output_type": "stream",
          "name": "stdout",
          "text": [
            "Books Data:\n",
            "  ISBN;\"Book-Title\";\"Book-Author\";\"Year-Of-Publication\";\"Publisher\";\"Image-URL-S\";\"Image-URL-M\";\"Image-URL-L\"\n",
            "0  0195153448;\"Classical Mythology\";\"Mark P. O. M...                                                         \n",
            "1  0002005018;\"Clara Callan\";\"Richard Bruce Wrigh...                                                         \n",
            "2  0060973129;\"Decision in Normandy\";\"Carlo D'Est...                                                         \n",
            "3  0374157065;\"Flu: The Story of the Great Influe...                                                         \n",
            "4  0393045218;\"The Mummies of Urumchi\";\"E. J. W. ...                                                         \n",
            "\n",
            "Ratings Data:\n",
            "   User-ID        ISBN  Book-Rating\n",
            "0   276725  034545104X            0\n",
            "1   276726  0155061224            5\n",
            "2   276727  0446520802            0\n",
            "3   276729  052165615X            3\n",
            "4   276729  0521795028            6\n",
            "\n",
            "Users Data:\n",
            "   User-ID                            Location   Age\n",
            "0        1                  nyc, new york, usa   NaN\n",
            "1        2           stockton, california, usa  18.0\n",
            "2        3     moscow, yukon territory, russia   NaN\n",
            "3        4           porto, v.n.gaia, portugal  17.0\n",
            "4        5  farnborough, hants, united kingdom   NaN\n"
          ]
        }
      ]
    },
    {
      "cell_type": "code",
      "source": [
        "\n",
        "print(books.columns)\n",
        "print(ratings.columns)\n",
        "print(users.columns)"
      ],
      "metadata": {
        "colab": {
          "base_uri": "https://localhost:8080/"
        },
        "id": "08MwFzgmajGF",
        "outputId": "07dd1540-3a5f-4b77-f0a2-791f605f38a7"
      },
      "execution_count": null,
      "outputs": [
        {
          "output_type": "stream",
          "name": "stdout",
          "text": [
            "Index(['ISBN;\"Book-Title\";\"Book-Author\";\"Year-Of-Publication\";\"Publisher\";\"Image-URL-S\";\"Image-URL-M\";\"Image-URL-L\"'], dtype='object')\n",
            "Index(['User-ID;\"ISBN\";\"Book-Rating\"'], dtype='object')\n",
            "Index(['User-ID;\"Location\";\"Age\"'], dtype='object')\n"
          ]
        }
      ]
    },
    {
      "cell_type": "code",
      "source": [
        "!pip install scikit-surprise"
      ],
      "metadata": {
        "colab": {
          "base_uri": "https://localhost:8080/"
        },
        "id": "y_tiajPIVMRy",
        "outputId": "2411cc1e-0332-4489-cd57-5cc08cb9b0ac"
      },
      "execution_count": 79,
      "outputs": [
        {
          "output_type": "stream",
          "name": "stdout",
          "text": [
            "Requirement already satisfied: scikit-surprise in /usr/local/lib/python3.11/dist-packages (1.1.4)\n",
            "Requirement already satisfied: joblib>=1.2.0 in /usr/local/lib/python3.11/dist-packages (from scikit-surprise) (1.4.2)\n",
            "Requirement already satisfied: numpy>=1.19.5 in /usr/local/lib/python3.11/dist-packages (from scikit-surprise) (1.26.4)\n",
            "Requirement already satisfied: scipy>=1.6.0 in /usr/local/lib/python3.11/dist-packages (from scikit-surprise) (1.14.1)\n"
          ]
        }
      ]
    },
    {
      "cell_type": "code",
      "source": [
        "#for recommendation\n",
        "from surprise import Dataset, Reader, SVD\n",
        "from surprise.model_selection import train_test_split\n",
        "from surprise import accuracy\n",
        "from surprise.model_selection import cross_validate\n",
        "#for chatbot\n",
        "import nltk\n",
        "from chatterbot import ChatBot\n",
        "from chatterbot.trainers import ChatterBotCorpusTrainer, ListTrainer\n",
        "from surprise import Dataset, Reader, SVD\n",
        "from surprise.model_selection import train_test_split\n",
        "from surprise import accuracy\n",
        "import pandas as pd"
      ],
      "metadata": {
        "id": "S-nglp-pVzTq"
      },
      "execution_count": 82,
      "outputs": []
    },
    {
      "cell_type": "code",
      "source": [
        "\n",
        "\n",
        "# Define the rating scale (adjust if needed)\n",
        "reader = Reader(rating_scale=(1, 10))  # Change to (1, 5) if ratings are from 1 to 5\n",
        "\n",
        "# Load dataset into Surprise format using correct column names\n",
        "data = Dataset.load_from_df(ratings[['User-ID', 'ISBN', 'Book-Rating']], reader)\n",
        "\n",
        "# Split into training and testing sets\n",
        "trainset, testset = train_test_split(data, test_size=0.2)\n",
        "\n",
        "# Train the SVD model\n",
        "model = SVD()\n",
        "model.fit(trainset)\n",
        "\n",
        "# Evaluate the model\n",
        "predictions = model.test(testset)\n",
        "accuracy.rmse(predictions)"
      ],
      "metadata": {
        "colab": {
          "base_uri": "https://localhost:8080/"
        },
        "id": "RdKudg9XiF07",
        "outputId": "fbe4cdb1-7954-44d7-8505-ab42d6d749d0"
      },
      "execution_count": 83,
      "outputs": [
        {
          "output_type": "stream",
          "name": "stdout",
          "text": [
            "RMSE: 1.6371\n"
          ]
        },
        {
          "output_type": "execute_result",
          "data": {
            "text/plain": [
              "1.637114048148572"
            ]
          },
          "metadata": {},
          "execution_count": 83
        }
      ]
    },
    {
      "cell_type": "code",
      "source": [
        "!pip install nltk chatterbot chatterbot_corpus\n"
      ],
      "metadata": {
        "colab": {
          "base_uri": "https://localhost:8080/",
          "height": 1000
        },
        "id": "Qr5bG_FEigRJ",
        "outputId": "7d203815-c2bc-4e87-a44f-260be61a47d4"
      },
      "execution_count": null,
      "outputs": [
        {
          "output_type": "stream",
          "name": "stdout",
          "text": [
            "Requirement already satisfied: nltk in /usr/local/lib/python3.11/dist-packages (3.9.1)\n",
            "Collecting chatterbot\n",
            "  Downloading chatterbot-1.2.3-py3-none-any.whl.metadata (8.5 kB)\n",
            "Collecting chatterbot_corpus\n",
            "  Downloading chatterbot_corpus-1.2.2-py2.py3-none-any.whl.metadata (1.1 kB)\n",
            "Requirement already satisfied: click in /usr/local/lib/python3.11/dist-packages (from nltk) (8.1.8)\n",
            "Requirement already satisfied: joblib in /usr/local/lib/python3.11/dist-packages (from nltk) (1.4.2)\n",
            "Requirement already satisfied: regex>=2021.8.3 in /usr/local/lib/python3.11/dist-packages (from nltk) (2024.11.6)\n",
            "Requirement already satisfied: tqdm in /usr/local/lib/python3.11/dist-packages (from nltk) (4.67.1)\n",
            "Collecting mathparse<0.2,>=0.1 (from chatterbot)\n",
            "  Downloading mathparse-0.1.2-py3-none-any.whl.metadata (776 bytes)\n",
            "Collecting python-dateutil<2.10,>=2.9 (from chatterbot)\n",
            "  Downloading python_dateutil-2.9.0.post0-py2.py3-none-any.whl.metadata (8.4 kB)\n",
            "Requirement already satisfied: sqlalchemy<2.1,>=2.0 in /usr/local/lib/python3.11/dist-packages (from chatterbot) (2.0.38)\n",
            "Collecting spacy<3.9,>=3.8 (from chatterbot)\n",
            "  Downloading spacy-3.8.4-cp311-cp311-manylinux_2_17_x86_64.manylinux2014_x86_64.whl.metadata (27 kB)\n",
            "Requirement already satisfied: six>=1.5 in /usr/local/lib/python3.11/dist-packages (from python-dateutil<2.10,>=2.9->chatterbot) (1.17.0)\n",
            "Requirement already satisfied: spacy-legacy<3.1.0,>=3.0.11 in /usr/local/lib/python3.11/dist-packages (from spacy<3.9,>=3.8->chatterbot) (3.0.12)\n",
            "Requirement already satisfied: spacy-loggers<2.0.0,>=1.0.0 in /usr/local/lib/python3.11/dist-packages (from spacy<3.9,>=3.8->chatterbot) (1.0.5)\n",
            "Requirement already satisfied: murmurhash<1.1.0,>=0.28.0 in /usr/local/lib/python3.11/dist-packages (from spacy<3.9,>=3.8->chatterbot) (1.0.12)\n",
            "Requirement already satisfied: cymem<2.1.0,>=2.0.2 in /usr/local/lib/python3.11/dist-packages (from spacy<3.9,>=3.8->chatterbot) (2.0.11)\n",
            "Requirement already satisfied: preshed<3.1.0,>=3.0.2 in /usr/local/lib/python3.11/dist-packages (from spacy<3.9,>=3.8->chatterbot) (3.0.9)\n",
            "Collecting thinc<8.4.0,>=8.3.4 (from spacy<3.9,>=3.8->chatterbot)\n",
            "  Downloading thinc-8.3.4-cp311-cp311-manylinux_2_17_x86_64.manylinux2014_x86_64.whl.metadata (15 kB)\n",
            "Requirement already satisfied: wasabi<1.2.0,>=0.9.1 in /usr/local/lib/python3.11/dist-packages (from spacy<3.9,>=3.8->chatterbot) (1.1.3)\n",
            "Requirement already satisfied: srsly<3.0.0,>=2.4.3 in /usr/local/lib/python3.11/dist-packages (from spacy<3.9,>=3.8->chatterbot) (2.5.1)\n",
            "Requirement already satisfied: catalogue<2.1.0,>=2.0.6 in /usr/local/lib/python3.11/dist-packages (from spacy<3.9,>=3.8->chatterbot) (2.0.10)\n",
            "Requirement already satisfied: weasel<0.5.0,>=0.1.0 in /usr/local/lib/python3.11/dist-packages (from spacy<3.9,>=3.8->chatterbot) (0.4.1)\n",
            "Requirement already satisfied: typer<1.0.0,>=0.3.0 in /usr/local/lib/python3.11/dist-packages (from spacy<3.9,>=3.8->chatterbot) (0.15.2)\n",
            "Requirement already satisfied: numpy>=1.19.0 in /usr/local/lib/python3.11/dist-packages (from spacy<3.9,>=3.8->chatterbot) (1.26.4)\n",
            "Requirement already satisfied: requests<3.0.0,>=2.13.0 in /usr/local/lib/python3.11/dist-packages (from spacy<3.9,>=3.8->chatterbot) (2.32.3)\n",
            "Requirement already satisfied: pydantic!=1.8,!=1.8.1,<3.0.0,>=1.7.4 in /usr/local/lib/python3.11/dist-packages (from spacy<3.9,>=3.8->chatterbot) (2.10.6)\n",
            "Requirement already satisfied: jinja2 in /usr/local/lib/python3.11/dist-packages (from spacy<3.9,>=3.8->chatterbot) (3.1.6)\n",
            "Requirement already satisfied: setuptools in /usr/local/lib/python3.11/dist-packages (from spacy<3.9,>=3.8->chatterbot) (75.1.0)\n",
            "Requirement already satisfied: packaging>=20.0 in /usr/local/lib/python3.11/dist-packages (from spacy<3.9,>=3.8->chatterbot) (24.2)\n",
            "Requirement already satisfied: langcodes<4.0.0,>=3.2.0 in /usr/local/lib/python3.11/dist-packages (from spacy<3.9,>=3.8->chatterbot) (3.5.0)\n",
            "Requirement already satisfied: greenlet!=0.4.17 in /usr/local/lib/python3.11/dist-packages (from sqlalchemy<2.1,>=2.0->chatterbot) (3.1.1)\n",
            "Requirement already satisfied: typing-extensions>=4.6.0 in /usr/local/lib/python3.11/dist-packages (from sqlalchemy<2.1,>=2.0->chatterbot) (4.12.2)\n",
            "Requirement already satisfied: language-data>=1.2 in /usr/local/lib/python3.11/dist-packages (from langcodes<4.0.0,>=3.2.0->spacy<3.9,>=3.8->chatterbot) (1.3.0)\n",
            "Requirement already satisfied: annotated-types>=0.6.0 in /usr/local/lib/python3.11/dist-packages (from pydantic!=1.8,!=1.8.1,<3.0.0,>=1.7.4->spacy<3.9,>=3.8->chatterbot) (0.7.0)\n",
            "Requirement already satisfied: pydantic-core==2.27.2 in /usr/local/lib/python3.11/dist-packages (from pydantic!=1.8,!=1.8.1,<3.0.0,>=1.7.4->spacy<3.9,>=3.8->chatterbot) (2.27.2)\n",
            "Requirement already satisfied: charset-normalizer<4,>=2 in /usr/local/lib/python3.11/dist-packages (from requests<3.0.0,>=2.13.0->spacy<3.9,>=3.8->chatterbot) (3.4.1)\n",
            "Requirement already satisfied: idna<4,>=2.5 in /usr/local/lib/python3.11/dist-packages (from requests<3.0.0,>=2.13.0->spacy<3.9,>=3.8->chatterbot) (3.10)\n",
            "Requirement already satisfied: urllib3<3,>=1.21.1 in /usr/local/lib/python3.11/dist-packages (from requests<3.0.0,>=2.13.0->spacy<3.9,>=3.8->chatterbot) (2.3.0)\n",
            "Requirement already satisfied: certifi>=2017.4.17 in /usr/local/lib/python3.11/dist-packages (from requests<3.0.0,>=2.13.0->spacy<3.9,>=3.8->chatterbot) (2025.1.31)\n",
            "Collecting blis<1.3.0,>=1.2.0 (from thinc<8.4.0,>=8.3.4->spacy<3.9,>=3.8->chatterbot)\n",
            "  Downloading blis-1.2.0-cp311-cp311-manylinux_2_17_x86_64.manylinux2014_x86_64.whl.metadata (7.7 kB)\n",
            "Requirement already satisfied: confection<1.0.0,>=0.0.1 in /usr/local/lib/python3.11/dist-packages (from thinc<8.4.0,>=8.3.4->spacy<3.9,>=3.8->chatterbot) (0.1.5)\n",
            "Requirement already satisfied: shellingham>=1.3.0 in /usr/local/lib/python3.11/dist-packages (from typer<1.0.0,>=0.3.0->spacy<3.9,>=3.8->chatterbot) (1.5.4)\n",
            "Requirement already satisfied: rich>=10.11.0 in /usr/local/lib/python3.11/dist-packages (from typer<1.0.0,>=0.3.0->spacy<3.9,>=3.8->chatterbot) (13.9.4)\n",
            "Requirement already satisfied: cloudpathlib<1.0.0,>=0.7.0 in /usr/local/lib/python3.11/dist-packages (from weasel<0.5.0,>=0.1.0->spacy<3.9,>=3.8->chatterbot) (0.21.0)\n",
            "Requirement already satisfied: smart-open<8.0.0,>=5.2.1 in /usr/local/lib/python3.11/dist-packages (from weasel<0.5.0,>=0.1.0->spacy<3.9,>=3.8->chatterbot) (7.1.0)\n",
            "Requirement already satisfied: MarkupSafe>=2.0 in /usr/local/lib/python3.11/dist-packages (from jinja2->spacy<3.9,>=3.8->chatterbot) (3.0.2)\n",
            "Requirement already satisfied: marisa-trie>=1.1.0 in /usr/local/lib/python3.11/dist-packages (from language-data>=1.2->langcodes<4.0.0,>=3.2.0->spacy<3.9,>=3.8->chatterbot) (1.2.1)\n",
            "Requirement already satisfied: markdown-it-py>=2.2.0 in /usr/local/lib/python3.11/dist-packages (from rich>=10.11.0->typer<1.0.0,>=0.3.0->spacy<3.9,>=3.8->chatterbot) (3.0.0)\n",
            "Requirement already satisfied: pygments<3.0.0,>=2.13.0 in /usr/local/lib/python3.11/dist-packages (from rich>=10.11.0->typer<1.0.0,>=0.3.0->spacy<3.9,>=3.8->chatterbot) (2.18.0)\n",
            "Requirement already satisfied: wrapt in /usr/local/lib/python3.11/dist-packages (from smart-open<8.0.0,>=5.2.1->weasel<0.5.0,>=0.1.0->spacy<3.9,>=3.8->chatterbot) (1.17.2)\n",
            "Requirement already satisfied: mdurl~=0.1 in /usr/local/lib/python3.11/dist-packages (from markdown-it-py>=2.2.0->rich>=10.11.0->typer<1.0.0,>=0.3.0->spacy<3.9,>=3.8->chatterbot) (0.1.2)\n",
            "Downloading chatterbot-1.2.3-py3-none-any.whl (72 kB)\n",
            "\u001b[2K   \u001b[90m━━━━━━━━━━━━━━━━━━━━━━━━━━━━━━━━━━━━━━━━\u001b[0m \u001b[32m72.8/72.8 kB\u001b[0m \u001b[31m5.0 MB/s\u001b[0m eta \u001b[36m0:00:00\u001b[0m\n",
            "\u001b[?25hDownloading chatterbot_corpus-1.2.2-py2.py3-none-any.whl (240 kB)\n",
            "\u001b[2K   \u001b[90m━━━━━━━━━━━━━━━━━━━━━━━━━━━━━━━━━━━━━━━━\u001b[0m \u001b[32m240.5/240.5 kB\u001b[0m \u001b[31m14.0 MB/s\u001b[0m eta \u001b[36m0:00:00\u001b[0m\n",
            "\u001b[?25hDownloading mathparse-0.1.2-py3-none-any.whl (7.2 kB)\n",
            "Downloading python_dateutil-2.9.0.post0-py2.py3-none-any.whl (229 kB)\n",
            "\u001b[2K   \u001b[90m━━━━━━━━━━━━━━━━━━━━━━━━━━━━━━━━━━━━━━━━\u001b[0m \u001b[32m229.9/229.9 kB\u001b[0m \u001b[31m18.4 MB/s\u001b[0m eta \u001b[36m0:00:00\u001b[0m\n",
            "\u001b[?25hDownloading spacy-3.8.4-cp311-cp311-manylinux_2_17_x86_64.manylinux2014_x86_64.whl (30.6 MB)\n",
            "\u001b[2K   \u001b[90m━━━━━━━━━━━━━━━━━━━━━━━━━━━━━━━━━━━━━━━━\u001b[0m \u001b[32m30.6/30.6 MB\u001b[0m \u001b[31m33.9 MB/s\u001b[0m eta \u001b[36m0:00:00\u001b[0m\n",
            "\u001b[?25hDownloading thinc-8.3.4-cp311-cp311-manylinux_2_17_x86_64.manylinux2014_x86_64.whl (3.9 MB)\n",
            "\u001b[2K   \u001b[90m━━━━━━━━━━━━━━━━━━━━━━━━━━━━━━━━━━━━━━━━\u001b[0m \u001b[32m3.9/3.9 MB\u001b[0m \u001b[31m49.8 MB/s\u001b[0m eta \u001b[36m0:00:00\u001b[0m\n",
            "\u001b[?25hDownloading blis-1.2.0-cp311-cp311-manylinux_2_17_x86_64.manylinux2014_x86_64.whl (11.7 MB)\n",
            "\u001b[2K   \u001b[90m━━━━━━━━━━━━━━━━━━━━━━━━━━━━━━━━━━━━━━━━\u001b[0m \u001b[32m11.7/11.7 MB\u001b[0m \u001b[31m46.9 MB/s\u001b[0m eta \u001b[36m0:00:00\u001b[0m\n",
            "\u001b[?25hInstalling collected packages: mathparse, chatterbot_corpus, python-dateutil, blis, thinc, spacy, chatterbot\n",
            "  Attempting uninstall: python-dateutil\n",
            "    Found existing installation: python-dateutil 2.8.2\n",
            "    Uninstalling python-dateutil-2.8.2:\n",
            "      Successfully uninstalled python-dateutil-2.8.2\n",
            "  Attempting uninstall: blis\n",
            "    Found existing installation: blis 0.7.11\n",
            "    Uninstalling blis-0.7.11:\n",
            "      Successfully uninstalled blis-0.7.11\n",
            "  Attempting uninstall: thinc\n",
            "    Found existing installation: thinc 8.2.5\n",
            "    Uninstalling thinc-8.2.5:\n",
            "      Successfully uninstalled thinc-8.2.5\n",
            "  Attempting uninstall: spacy\n",
            "    Found existing installation: spacy 3.7.5\n",
            "    Uninstalling spacy-3.7.5:\n",
            "      Successfully uninstalled spacy-3.7.5\n",
            "\u001b[31mERROR: pip's dependency resolver does not currently take into account all the packages that are installed. This behaviour is the source of the following dependency conflicts.\n",
            "en-core-web-sm 3.7.1 requires spacy<3.8.0,>=3.7.2, but you have spacy 3.8.4 which is incompatible.\u001b[0m\u001b[31m\n",
            "\u001b[0mSuccessfully installed blis-1.2.0 chatterbot-1.2.3 chatterbot_corpus-1.2.2 mathparse-0.1.2 python-dateutil-2.9.0.post0 spacy-3.8.4 thinc-8.3.4\n"
          ]
        },
        {
          "output_type": "display_data",
          "data": {
            "application/vnd.colab-display-data+json": {
              "pip_warning": {
                "packages": [
                  "dateutil"
                ]
              },
              "id": "9a561fc6e6b647859fef67be9a50fe1a"
            }
          },
          "metadata": {}
        }
      ]
    },
    {
      "cell_type": "code",
      "source": [
        "\n",
        "\n",
        "# -------------------------------\n",
        "# 1. Initialize and Train the ChatBot\n",
        "# -------------------------------\n",
        "chatbot = ChatBot(\"BookBot\")\n",
        "\n",
        "# Train with the general English corpus\n",
        "corpus_trainer = ChatterBotCorpusTrainer(chatbot)\n",
        "corpus_trainer.train(\"chatterbot.corpus.english\")\n",
        "\n",
        "# Train with custom book-related conversations using ListTrainer\n",
        "list_trainer = ListTrainer(chatbot)\n",
        "\n",
        "custom_conversations = [\n",
        "    \"Hello\",\n",
        "    \"Hi, how can I help you with books today?\",\n",
        "\n",
        "    \"Can you recommend a book?\",\n",
        "    \"Sure, please provide your User-ID and I'll recommend something based on your reading history.\",\n",
        "\n",
        "    \"I need a book recommendation\",\n",
        "    \"What genre are you interested in? I can suggest Fiction, Mystery, Non-fiction, etc.\",\n",
        "\n",
        "    \"I want a motivational book\",\n",
        "    \"I recommend 'Atomic Habits' by James Clear!\",\n",
        "\n",
        "    \"Tell me a famous book\",\n",
        "    \"One famous book is '1984' by George Orwell.\",\n",
        "\n",
        "    \"Thank you\",\n",
        "    \"You're welcome! 😊 Enjoy your reading!\",\n",
        "\n",
        "    \"Thanks\",\n",
        "    \"You're welcome! Happy to help! 😊\",\n",
        "\n",
        "    \"Recommend me a book\",\n",
        "    \"Sure! Please enter your User-ID to get personalized recommendations.\",\n",
        "\n",
        "    \"I need books\",\n",
        "    \"Please enter your User-ID so I can suggest books based on your history.\"\n",
        "]\n",
        "\n",
        "list_trainer = ListTrainer(chatbot)\n",
        "list_trainer.train(custom_conversations)\n",
        "\n",
        "\n",
        "\n",
        "\n",
        "\n",
        "\n",
        "\n",
        "\n",
        "\n",
        "\n",
        "\n",
        "\n"
      ],
      "metadata": {
        "colab": {
          "base_uri": "https://localhost:8080/"
        },
        "id": "Fq4dmYj5rCZb",
        "outputId": "c7090138-1e80-45e5-c99e-62bad5ae2c37"
      },
      "execution_count": 98,
      "outputs": [
        {
          "output_type": "stream",
          "name": "stderr",
          "text": [
            "/usr/local/lib/python3.11/dist-packages/spacy/util.py:910: UserWarning: [W095] Model 'en_core_web_sm' (3.7.1) was trained with spaCy v3.7.2 and may not be 100% compatible with the current version (3.8.4). If you see errors or degraded performance, download a newer compatible model or retrain your custom model with the current spaCy version. For more details and available updates, run: python -m spacy validate\n",
            "  warnings.warn(warn_msg)\n",
            "ChatterBot Corpus Trainer: 19it [00:07,  2.44it/s]\n",
            "List Trainer: 18it [00:00, 446.02it/s]\n"
          ]
        }
      ]
    },
    {
      "cell_type": "code",
      "source": [
        "\n",
        "# 4. Define the Recommendation Function\n",
        "\n",
        "def get_book_recommendations(user_id, model, ratings, books, num_recommendations=5):\n",
        "    if user_id not in ratings[\"User-ID\"].values:\n",
        "        return [\"Sorry, I couldn't find your user ID in the dataset.\"]\n",
        "\n",
        "    unique_books = ratings['ISBN'].unique()\n",
        "    user_books = ratings[ratings['User-ID'] == user_id]['ISBN'].values\n",
        "    books_to_predict = [book for book in unique_books if book not in user_books]\n",
        "\n",
        "    predictions = [model.predict(user_id, book) for book in books_to_predict]\n",
        "    predictions.sort(key=lambda x: x.est, reverse=True)\n",
        "\n",
        "    recommended_isbns = [pred.iid for pred in predictions[:num_recommendations]]\n",
        "    recommended_books = books[books['ISBN'].isin(recommended_isbns)][['Book-Title', 'Book-Author']]\n",
        "\n",
        "    return recommended_books.to_dict(orient=\"records\")"
      ],
      "metadata": {
        "id": "rooVvI765Xm5"
      },
      "execution_count": 99,
      "outputs": []
    },
    {
      "cell_type": "code",
      "source": [
        "\n",
        "# 5. Define the ChatBot Response Function\n",
        "\n",
        "def chatbot_response(user_input):\n",
        "    user_input_lower = user_input.lower()\n",
        "\n",
        "    # Check if the user is asking for a recommendation\n",
        "    if \"recommend\" in user_input_lower or \"suggest\" in user_input_lower or \"book\" in user_input_lower:\n",
        "        user_id_input = input(\"Enter your User-ID: \")\n",
        "        try:\n",
        "            user_id = int(user_id_input)\n",
        "        except ValueError:\n",
        "            return \"Invalid User-ID. Please enter a numeric User-ID.\"\n",
        "\n",
        "        recommendations = get_book_recommendations(user_id, model, ratings, books)\n",
        "        if recommendations and isinstance(recommendations, list):\n",
        "            if isinstance(recommendations[0], dict):\n",
        "                response_text = \"📚 Here are some books for you:\\n\"\n",
        "                response_text += \"\\n\".join([f\"{book['Book-Title']} by {book['Book-Author']}\" for book in recommendations])\n",
        "                return response_text\n",
        "            else:\n",
        "                return recommendations[0]\n",
        "        else:\n",
        "            return \"Sorry, I couldn't find recommendations for you.\"\n",
        "    # For motivational queries\n",
        "    elif \"motivation\" in user_input_lower:\n",
        "        return \"You should read 'Atomic Habits' by James Clear! 📖\"\n",
        "    # Otherwise, fallback to the chatbot's general response\n",
        "    else:\n",
        "        return str(chatbot.get_response(user_input))"
      ],
      "metadata": {
        "id": "vAilenZ15frd"
      },
      "execution_count": 100,
      "outputs": []
    },
    {
      "cell_type": "code",
      "source": [
        "\n",
        "# 6. Chat Loop: Interact with the ChatBot\n",
        "\n",
        "print(\"Type 'exit' to end the chat.\")\n",
        "while True:\n",
        "    user_input = input(\"You: \")\n",
        "    if user_input.lower() == \"exit\":\n",
        "        print(\"Goodbye! 😊\")\n",
        "        break\n",
        "    response = chatbot_response(user_input)\n",
        "    print(\"BookBot:\", response)"
      ],
      "metadata": {
        "colab": {
          "base_uri": "https://localhost:8080/"
        },
        "id": "5dIdB9hw5lGu",
        "outputId": "49db8f3c-65e0-4c88-ca6a-b89068520d82"
      },
      "execution_count": 104,
      "outputs": [
        {
          "output_type": "stream",
          "name": "stdout",
          "text": [
            "Type 'exit' to end the chat.\n",
            "You: Hello\n",
            "BookBot: Hi\n",
            "You: Recommend me a book?\n",
            "Enter your User-ID: 276727\n",
            "BookBot: 📚 Here are some books for you:\n",
            "84 Charing Cross Road by Helene Hanff\n",
            "Calvin and Hobbes by Bill Watterson\n",
            "My Sister's Keeper : A Novel (Picoult, Jodi) by Jodi Picoult\n",
            "Harry Potter and the Chamber of Secrets Postcard Book by J. K. Rowling\n",
            "You: Thanks\n",
            "BookBot: You're welcome! Happy to help! 😊\n",
            "You: exit\n",
            "Goodbye! 😊\n"
          ]
        }
      ]
    }
  ]
}